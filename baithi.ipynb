{
  "nbformat": 4,
  "nbformat_minor": 0,
  "metadata": {
    "colab": {
      "name": "baithi.ipynb",
      "provenance": [],
      "collapsed_sections": [],
      "authorship_tag": "ABX9TyOmJ0FmVjf4KCXxssN3ICOb",
      "include_colab_link": true
    },
    "kernelspec": {
      "name": "python3",
      "display_name": "Python 3"
    },
    "language_info": {
      "name": "python"
    }
  },
  "cells": [
    {
      "cell_type": "markdown",
      "metadata": {
        "id": "view-in-github",
        "colab_type": "text"
      },
      "source": [
        "<a href=\"https://colab.research.google.com/github/vidongls/python_dulieu/blob/main/baithi.ipynb\" target=\"_parent\"><img src=\"https://colab.research.google.com/assets/colab-badge.svg\" alt=\"Open In Colab\"/></a>"
      ]
    },
    {
      "cell_type": "code",
      "metadata": {
        "id": "DIRlP3oUi2Yl"
      },
      "source": [
        "import numpy as np\n",
        "import pandas as pd\n",
        "import matplotlib.pyplot as plt\n",
        "import seaborn as sns\n",
        "from sklearn.model_selection import train_test_split\n",
        "from sklearn.svm import SVC\n",
        "from sklearn import preprocessing as pp\n"
      ],
      "execution_count": null,
      "outputs": []
    },
    {
      "cell_type": "code",
      "metadata": {
        "colab": {
          "base_uri": "https://localhost:8080/"
        },
        "id": "RT9Y5X7gi7sV",
        "outputId": "01ee0c08-1c01-4be9-d953-33b0c9456b8f"
      },
      "source": [
        "df_estonia = pd.read_csv(\"/content/estonia-passenger-list.csv\")\n",
        "print(df_estonia.head(10))\n",
        "# print(df_estonia.describe(include='all'))\n",
        "print(df_estonia.describe())\n",
        "df_estonia = df_estonia.drop_duplicates()\n",
        "df_estonia.isna().sum()\n",
        "df_estonia.Survived.value_counts()\n",
        "# categorical_features_indices = np.where(df_estonia.dtypes != np.int64)[0]\n",
        "# for col in df_estonia.columns:\n",
        "#     print(col, str(round(100* df_estonia[col].isnull().sum() / len(df_estonia), 2)) + '%')"
      ],
      "execution_count": null,
      "outputs": [
        {
          "output_type": "stream",
          "name": "stdout",
          "text": [
            "   PassengerId  Country           Firstname  ... Age Category  Survived\n",
            "0            1   Sweden         ARVID KALLE  ...  62        P         0\n",
            "1            2  Estonia                 LEA  ...  22        C         0\n",
            "2            3  Estonia                AIRI  ...  21        C         0\n",
            "3            4   Sweden                JURI  ...  53        C         0\n",
            "4            5   Sweden     BRITTA ELISABET  ...  55        P         0\n",
            "5            6   Sweden  GERD INGA MAGNHILD  ...  71        P         0\n",
            "6            7   Sweden             HJALMAR  ...  60        P         0\n",
            "7            8  Estonia               PILLE  ...  18        P         0\n",
            "8            9  Estonia               TORMI  ...  30        C         0\n",
            "9           10   Sweden          ANNA MARIA  ...  63        P         0\n",
            "\n",
            "[10 rows x 8 columns]\n",
            "       PassengerId         Age    Survived\n",
            "count   989.000000  989.000000  989.000000\n",
            "mean    494.992922   44.575329    0.138524\n",
            "std     285.643660   17.235146    0.345624\n",
            "min       1.000000    0.000000    0.000000\n",
            "25%     248.000000   30.000000    0.000000\n",
            "50%     495.000000   44.000000    0.000000\n",
            "75%     742.000000   59.000000    0.000000\n",
            "max     989.000000   87.000000    1.000000\n"
          ]
        },
        {
          "output_type": "execute_result",
          "data": {
            "text/plain": [
              "0    852\n",
              "1    137\n",
              "Name: Survived, dtype: int64"
            ]
          },
          "metadata": {},
          "execution_count": 3
        }
      ]
    },
    {
      "cell_type": "code",
      "metadata": {
        "colab": {
          "base_uri": "https://localhost:8080/",
          "height": 350
        },
        "id": "EqGS_GstjN4R",
        "outputId": "dce9ff5a-e507-4b75-9e3a-815bf5e2d2ef"
      },
      "source": [
        "# #vẽ biểu đồ hiển thị tỉ lệ sống sót\n",
        "f,ax=plt.subplots(1,2,figsize=(12,5))\n",
        "df_estonia['Survived'].value_counts().plot.pie(explode=[0,0.1],autopct='%1.1f%%',ax=ax[0],shadow=True)\n",
        "ax[0].set_title('Survived')\n",
        "ax[0].set_ylabel('')\n",
        "sns.countplot(x='Survived',data=df_estonia,ax=ax[1])\n",
        "ax[1].set_title('Survived')\n",
        "plt.show()\n",
        "# labels = ['Dead', 'Survived']\n",
        "# values = df.Survived.value_counts().values\n",
        "# import plotly.graph_objects as go\n",
        "# fig = go.Figure(data=[go.Pie(labels=labels, textinfo='label+percent', values=values)])\n",
        "# fig.show()"
      ],
      "execution_count": null,
      "outputs": [
        {
          "output_type": "display_data",
          "data": {
            "image/png": "[encoded data removed]",
            "text/plain": [
              "<Figure size 864x360 with 2 Axes>"
            ]
          },
          "metadata": {
            "needs_background": "light"
          }
        }
      ]
    },
    {
      "cell_type": "code",
      "metadata": {
        "colab": {
          "base_uri": "https://localhost:8080/"
        },
        "id": "RaPfkBCzj4Xh",
        "outputId": "a7502c37-6f02-4a36-ee22-6c1c821d8857"
      },
      "source": [
        "#thêm cột age_category để phân loại các nhóm tuổi\n",
        "Age=df_estonia['Age'].values\n",
        "cage=[]\n",
        "for i in Age:\n",
        "    if i<=16:\n",
        "        cage.append('Child')\n",
        "    elif i<=60:\n",
        "        cage.append('Adult')\n",
        "    else:\n",
        "        cage.append('Old Person')\n",
        "df_estonia['Age_Category']=cage\n",
        "print (df_estonia.head(10))"
      ],
      "execution_count": null,
      "outputs": [
        {
          "output_type": "stream",
          "name": "stdout",
          "text": [
            "   PassengerId  Country           Firstname  ... Category Survived  Age_Category\n",
            "0            1   Sweden         ARVID KALLE  ...        P        0    Old Person\n",
            "1            2  Estonia                 LEA  ...        C        0         Adult\n",
            "2            3  Estonia                AIRI  ...        C        0         Adult\n",
            "3            4   Sweden                JURI  ...        C        0         Adult\n",
            "4            5   Sweden     BRITTA ELISABET  ...        P        0         Adult\n",
            "5            6   Sweden  GERD INGA MAGNHILD  ...        P        0    Old Person\n",
            "6            7   Sweden             HJALMAR  ...        P        0         Adult\n",
            "7            8  Estonia               PILLE  ...        P        0         Adult\n",
            "8            9  Estonia               TORMI  ...        C        0         Adult\n",
            "9           10   Sweden          ANNA MARIA  ...        P        0    Old Person\n",
            "\n",
            "[10 rows x 9 columns]\n"
          ]
        }
      ]
    },
    {
      "cell_type": "code",
      "metadata": {
        "colab": {
          "base_uri": "https://localhost:8080/",
          "height": 459
        },
        "id": "YNhmoqM4kIYn",
        "outputId": "89a17258-5ccf-486f-fae4-4c039c9c260f"
      },
      "source": [
        "groupAges={}\n",
        "groupgt={}\n",
        "nhomqgia={}\n",
        "for i in ['Child','Adult','Old Person']:\n",
        "    groupAges[i]=len(df_estonia[(df_estonia['Age_Category']==i) & (df_estonia['Survived']==1)].values)/len((df_estonia[df_estonia['Age_Category']==i] ).values)\n",
        "for i in ['M','F']:\n",
        "    groupgt[i]=len(df_estonia[(df_estonia['Sex']==i) & (df_estonia['Survived']==1)].values)/len((df_estonia[df_estonia['Sex']==i] ).values)\n",
        "for i in set(list(df_estonia['Country'].values)):\n",
        "    nhomqgia[i]=len(df_estonia[(df_estonia['Country']==i) & (df_estonia['Survived']==1)].values)/len((df_estonia[df_estonia['Country']==i] ).values)\n",
        "f, ax = plt.subplots(figsize=(25,5)) # set the size that you'd like (width, height)\n",
        "print(\"Tỉ lệ sống sót của nhóm tuổi\")\n",
        "print(groupAges)\n",
        "print(\"Tỉ lệ sống sót của từng quốc gia\")\n",
        "print(nhomqgia)\n",
        "print(\"Tỉ lệ sống sót của giới tính\")\n",
        "print(groupgt)\n",
        "# print(df_estonia['Sex'].value_counts())\n",
        "plt.bar(groupAges.keys(),groupAges.values())\n",
        "plt.bar(nhomqgia.keys(),nhomqgia.values())\n",
        "plt.bar(groupgt.keys(),groupgt.values())\n"
      ],
      "execution_count": null,
      "outputs": [
        {
          "output_type": "stream",
          "name": "stdout",
          "text": [
            "Tỉ lệ sống sót của nhóm tuổi\n",
            "{'Child': 0.15789473684210525, 'Adult': 0.17245989304812834, 'Old Person': 0.02252252252252252}\n",
            "Tỉ lệ sống sót của từng quốc gia\n",
            "{'Morocco': 0.0, 'Germany': 0.375, 'Canada': 0.0, 'Finland': 0.375, 'Norway': 0.3333333333333333, 'Nigeria': 0.0, 'France': 0.0, 'Estonia': 0.18604651162790697, 'Lithuania': 0.25, 'Sweden': 0.0890909090909091, 'Russia': 0.14285714285714285, 'Latvia': 0.21428571428571427, 'Denmark': 0.16666666666666666, 'Great Britain': 0.5, 'Netherlands': 0.5, 'Belarus': 0.0}\n",
            "Tỉ lệ sống sót của giới tính\n",
            "{'M': 0.21868787276341947, 'F': 0.05555555555555555}\n"
          ]
        },
        {
          "output_type": "execute_result",
          "data": {
            "text/plain": [
              "<BarContainer object of 2 artists>"
            ]
          },
          "metadata": {},
          "execution_count": 6
        },
        {
          "output_type": "display_data",
          "data": {
            "image/png": "[encoded data removed]",
            "text/plain": [
              "<Figure size 1800x360 with 1 Axes>"
            ]
          },
          "metadata": {
            "needs_background": "light"
          }
        }
      ]
    },
    {
      "cell_type": "code",
      "metadata": {
        "colab": {
          "base_uri": "https://localhost:8080/"
        },
        "id": "WPehNZgQnsSG",
        "outputId": "b1b647d3-370e-40e9-fa51-b57720367197"
      },
      "source": [
        "#gán vào df xử lý trên df\n",
        "# đưa dữ liệu string qua int\n",
        "df=df_estonia\n",
        "df.drop(columns=['Firstname','Lastname','PassengerId'],inplace=True,axis=1)\n",
        "\n",
        "print(df.head(10))\n",
        "def makenum(text):\n",
        "    dic={}\n",
        "    count=0\n",
        "    for i in set(list(df[text].values)):\n",
        "        dic[i]=count\n",
        "        count+=1\n",
        "    df[text].replace(dic,inplace=True)\n",
        "makenum('Country')\n",
        "makenum('Sex')\n",
        "makenum('Category')\n",
        "makenum('Age_Category')"
      ],
      "execution_count": null,
      "outputs": [
        {
          "output_type": "stream",
          "name": "stdout",
          "text": [
            "   Country Sex  Age Category  Survived Age_Category\n",
            "0   Sweden   M   62        P         0   Old Person\n",
            "1  Estonia   F   22        C         0        Adult\n",
            "2  Estonia   F   21        C         0        Adult\n",
            "3   Sweden   M   53        C         0        Adult\n",
            "4   Sweden   F   55        P         0        Adult\n",
            "5   Sweden   F   71        P         0   Old Person\n",
            "6   Sweden   M   60        P         0        Adult\n",
            "7  Estonia   F   18        P         0        Adult\n",
            "8  Estonia   M   30        C         0        Adult\n",
            "9   Sweden   F   63        P         0   Old Person\n"
          ]
        }
      ]
    },
    {
      "cell_type": "code",
      "metadata": {
        "colab": {
          "base_uri": "https://localhost:8080/"
        },
        "id": "jx-snisso2qA",
        "outputId": "de15ab7c-c915-471a-93e6-f358c850dd70"
      },
      "source": [
        "#chuan hoa min-max\n",
        "print(\"Chuẩn hoá min max\")\n",
        "mms = pp.MinMaxScaler()\n",
        "data_mms = mms.fit_transform(df_estonia)\n",
        "print(data_mms)\n",
        "print(\"=============================\")\n",
        "print(\"Chính quy hoá\")\n",
        "#chinh quy hoa (standardisation)\n",
        "print('Standardization')\n",
        "std = pp.StandardScaler()\n",
        "data_std = std.fit_transform(df_estonia)\n",
        "print(data_std)\n",
        "# #--- chuẩn hoá z-score\n",
        "# print('=== Standardization z-score ==== ')\n",
        "# std = pp.StandardScaler()\n",
        "# data_std = std.fit_transform(df_estonia)\n",
        "# print(data_std)\n",
        "# #--- chuẩn hoá 3-sigma\n",
        "# print('=== Standardization 3-sigma==== ')\n",
        "# a_3sigma=(df_estonia-np.mean(df_estonia))/(3.0*np.std(df_estonia))\n",
        "# print(a_3sigma)"
      ],
      "execution_count": null,
      "outputs": [
        {
          "output_type": "stream",
          "name": "stdout",
          "text": [
            "Chuẩn hoá min max\n",
            "[[0.6        0.         0.71264368 1.         0.         1.        ]\n",
            " [0.46666667 1.         0.25287356 0.         0.         0.        ]\n",
            " [0.46666667 1.         0.24137931 0.         0.         0.        ]\n",
            " ...\n",
            " [0.6        0.         0.88505747 1.         0.         1.        ]\n",
            " [0.6        1.         1.         1.         0.         1.        ]\n",
            " [0.6        0.         0.48275862 1.         1.         0.        ]]\n",
            "=============================\n",
            "Chính quy hoá\n",
            "Standardization\n",
            "[[ 0.51425222 -0.98295615  1.01150798  0.49240462 -0.40099641  1.83363256]\n",
            " [-0.73077947  1.01733938 -1.31050535 -2.03085015 -0.40099641 -0.56037748]\n",
            " [-0.73077947  1.01733938 -1.36855569 -2.03085015 -0.40099641 -0.56037748]\n",
            " ...\n",
            " [ 0.51425222 -0.98295615  1.88226299  0.49240462 -0.40099641  1.83363256]\n",
            " [ 0.51425222  1.01733938  2.46276632  0.49240462 -0.40099641  1.83363256]\n",
            " [ 0.51425222 -0.98295615 -0.14949868  0.49240462  2.4937879  -0.56037748]]\n"
          ]
        }
      ]
    },
    {
      "cell_type": "code",
      "metadata": {
        "colab": {
          "base_uri": "https://localhost:8080/",
          "height": 782
        },
        "id": "Qr_GsSb_pN5I",
        "outputId": "cf04caa3-9547-4b5a-e557-0c118bab3426"
      },
      "source": [
        "X=df.drop(columns=['Survived'],axis=1).values\n",
        "y=df['Survived'].values\n",
        "X_train, X_test, y_train, y_test = train_test_split( X, y, test_size=0.40, random_state=0)\n",
        "from sklearn.linear_model import LogisticRegression\n",
        "model1=LogisticRegression().fit(X_train,y_train)\n",
        "y_pred1=model1.predict(X_test)\n",
        "from sklearn.metrics import accuracy_score\n",
        "#In ra kết quả độ chính xác\n",
        "score1=accuracy_score(y_test, y_pred1)\n",
        "print(\"Accuracy Score:\", score1)\n",
        "print(\"=============================\")\n",
        "# #In ra kết quả độ chính xác trên từng lớp\n",
        "from sklearn.metrics import classification_report\n",
        "print(classification_report(y_test,y_pred1))\n",
        "# kích thước\n",
        "print(\"=============================\")\n",
        "print ('Kích thước tập Train = ', X_train.shape)\n",
        "print ('Kích thước tập Test = ',X_test.shape)\n",
        "# hệ số mô hình\n",
        "print(\"============Hệ số=============\")\n",
        "print('Hệ số W: \\n', model1.coef_)\n",
        "print('Hệ số Bias: \\n', model1.intercept_)\n",
        "#In ra ma trận kết quả dự đoán\n",
        "print(\"=============================\")\n",
        "print(\"Ma trận kết quả dự đoán!\")\n",
        "from sklearn.metrics import confusion_matrix\n",
        "confusion_matrix1 = confusion_matrix(y_test,y_pred1)\n",
        "print(confusion_matrix1)\n",
        "#=================ve thu============\n",
        "pred = model1.predict(X_test)\n",
        "pred = (pred>0.14).astype(int)\n",
        "cm = confusion_matrix(pred,y_test)\n",
        "plt.figure(figsize=(10,6))\n",
        "sns.heatmap(cm,annot=True,fmt='g',cmap='YlGnBu',xticklabels=['Predicted Not Survived','Predicted Survived'],yticklabels=['Not Survived','Survived'])\n",
        "#=================\n",
        "# print(\"=============================\")\n",
        "# print(\"test \\n\",df[3:4]);\n",
        "# test = model1.predict(X[2:3])\n",
        "# print(\"kq\",test)"
      ],
      "execution_count": null,
      "outputs": [
        {
          "output_type": "stream",
          "name": "stdout",
          "text": [
            "Accuracy Score: 0.8434343434343434\n",
            "=============================\n",
            "              precision    recall  f1-score   support\n",
            "\n",
            "           0       0.85      0.99      0.92       336\n",
            "           1       0.00      0.00      0.00        60\n",
            "\n",
            "    accuracy                           0.84       396\n",
            "   macro avg       0.42      0.50      0.46       396\n",
            "weighted avg       0.72      0.84      0.78       396\n",
            "\n",
            "=============================\n",
            "Kích thước tập Train =  (593, 5)\n",
            "Kích thước tập Test =  (396, 5)\n",
            "============Hệ số=============\n",
            "Hệ số W: \n",
            " [[-0.15113134 -1.78778762 -0.02551489 -0.65988461 -0.69735294]]\n",
            "Hệ số Bias: \n",
            " [1.59164986]\n",
            "=============================\n",
            "Ma trận kết quả dự đoán!\n",
            "[[334   2]\n",
            " [ 60   0]]\n"
          ]
        },
        {
          "output_type": "execute_result",
          "data": {
            "text/plain": [
              "<matplotlib.axes._subplots.AxesSubplot at 0x7f2ab8dfc0d0>"
            ]
          },
          "metadata": {},
          "execution_count": 9
        },
        {
          "output_type": "display_data",
          "data": {
            "image/png": "[encoded data removed]",
            "text/plain": [
              "<Figure size 720x432 with 2 Axes>"
            ]
          },
          "metadata": {
            "needs_background": "light"
          }
        }
      ]
    },
    {
      "cell_type": "code",
      "metadata": {
        "colab": {
          "base_uri": "https://localhost:8080/"
        },
        "id": "RWVB_zWksG3u",
        "outputId": "885e3985-f8e4-4528-fb0e-9c99d5e82e4c"
      },
      "source": [
        "#dung svm\n",
        "from sklearn.svm import SVC\n",
        "svm=SVC(kernel='linear')\n",
        "svm.fit(X_train,y_train)\n",
        "pred_4=svm.predict(X_test)\n",
        "score_4=accuracy_score(y_test,pred_4)\n",
        "print(\"Độ chính xác:\",score_4)\n"
      ],
      "execution_count": null,
      "outputs": [
        {
          "output_type": "stream",
          "name": "stdout",
          "text": [
            "Độ chính xác: 0.8484848484848485\n"
          ]
        }
      ]
    },
    {
      "cell_type": "code",
      "metadata": {
        "colab": {
          "base_uri": "https://localhost:8080/",
          "height": 650
        },
        "id": "U77FNAMrqqWt",
        "outputId": "56b727f5-b51a-4ce2-ab93-3a7b9aa9fe41"
      },
      "source": [
        "#k them age_category\n",
        "X=df.drop(columns=['Survived','Age_Category'],axis=1).values\n",
        "y=df['Survived'].values\n",
        "X_train, X_test, y_train, y_test = train_test_split( X, y, test_size=0.40, random_state=0)\n",
        "model1.fit(X_train,y_train)\n",
        "y_pre2=model1.predict(X_test)\n",
        "print('Độ chính xác mà không thêm cột Age_category:',accuracy_score(y_pre2,y_test))\n",
        "print(\"=============================\")\n",
        "print ('Kích thước tập Train = ', X_train.shape)\n",
        "print ('Kích thước tập Test = ',X_test.shape)\n",
        "#In ra ma trận kết quả dự đoán\n",
        "print(\"Ma tran ket qua du doan!\")\n",
        "#========================\n",
        "print(\"=============================\")\n",
        "from sklearn.metrics import confusion_matrix\n",
        "fig=plt.figure(figsize=(10,8))\n",
        "ax=fig.add_subplot(111)\n",
        "conf_mat_log=confusion_matrix(y_pre2,y_test)\n",
        "print(conf_mat_log)\n",
        "\n",
        "sns.heatmap(conf_mat_log,annot=True,fmt='g',ax=ax)\n",
        "ax.set_xlabel('Actual')\n",
        "ax.set_ylabel('Predicted')\n",
        "ax.xaxis.set_ticklabels(['Not survived', 'Survived'])\n",
        "ax.yaxis.set_ticklabels(['Not survived', 'Survived'],rotation=0)"
      ],
      "execution_count": null,
      "outputs": [
        {
          "output_type": "stream",
          "name": "stdout",
          "text": [
            "Độ chính xác mà không thêm cột Age_category: 0.8383838383838383\n",
            "=============================\n",
            "Kích thước tập Train =  (593, 4)\n",
            "Kích thước tập Test =  (396, 4)\n",
            "Ma tran ket qua du doan!\n",
            "=============================\n",
            "[[332  60]\n",
            " [  4   0]]\n"
          ]
        },
        {
          "output_type": "execute_result",
          "data": {
            "text/plain": [
              "[Text(0, 0.5, 'Not survived'), Text(0, 1.5, 'Survived')]"
            ]
          },
          "metadata": {},
          "execution_count": 11
        },
        {
          "output_type": "display_data",
          "data": {
            "image/png": "[encoded data removed]",
            "text/plain": [
              "<Figure size 720x576 with 2 Axes>"
            ]
          },
          "metadata": {
            "needs_background": "light"
          }
        }
      ]
    },
    {
      "cell_type": "code",
      "metadata": {
        "colab": {
          "base_uri": "https://localhost:8080/"
        },
        "id": "NN4EZs6wqslk",
        "outputId": "92f58611-57c3-400d-aca5-bffd78cfca2c"
      },
      "source": [
        "#xoa cot age\n",
        "df.drop(columns=['Age'],axis=1,inplace=True)\n",
        "X=df.drop(columns=['Survived'],axis=1).values\n",
        "y=df['Survived'].values\n",
        "X_train, X_test, y_train, y_test = train_test_split( X, y, test_size=0.40, random_state=0)\n",
        "model1.fit(X_train,y_train)\n",
        "y_hat3=model1.predict(X_test)\n",
        "print('Độ chính xác khi không có cột Age:',accuracy_score(y_hat3,y_test))  \n"
      ],
      "execution_count": null,
      "outputs": [
        {
          "output_type": "stream",
          "name": "stdout",
          "text": [
            "Độ chính xác khi không có cột Age: 0.8484848484848485\n"
          ]
        }
      ]
    },
    {
      "cell_type": "code",
      "metadata": {
        "id": "Cq_DR5ZmKjDj",
        "colab": {
          "base_uri": "https://localhost:8080/",
          "height": 248
        },
        "outputId": "56d45f92-50e0-41f2-ac2f-92c5f68bfdee"
      },
      "source": [
        "firms = [\"Logistic\",\"svc\"]\n",
        "market_share=[score1,score_4]\n",
        "Explode = [0,0.1]\n",
        "plt.pie(market_share,explode=Explode,labels=firms,shadow=True,startangle=45)\n",
        "plt.axis('equal')\n",
        "plt.legend(title=\"compare accuracy score\")\n",
        "plt.show()"
      ],
      "execution_count": null,
      "outputs": [
        {
          "output_type": "display_data",
          "data": {
            "image/png": "[encoded data removed]",
            "text/plain": [
              "<Figure size 432x288 with 1 Axes>"
            ]
          },
          "metadata": {}
        }
      ]
    }
  ]
}